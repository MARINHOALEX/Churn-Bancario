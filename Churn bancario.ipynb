{
 "cells": [
  {
   "cell_type": "markdown",
   "id": "6367bb38",
   "metadata": {},
   "source": [
    "# Bank Turnover Dataset"
   ]
  },
  {
   "cell_type": "markdown",
   "id": "bde35a9f",
   "metadata": {},
   "source": [
    "### Fonte: Kaggle\n",
    "https://www.kaggle.com/datasets/barelydedicated/bank-customer-churn-modeling"
   ]
  },
  {
   "cell_type": "markdown",
   "id": "594e539a",
   "metadata": {},
   "source": [
    "### Neste Dataset, trabalharemos um problema de Churn.\n",
    "Churn, no contexto de negócios e marketing, refere-se à taxa de rotatividade de clientes, ou seja, o número de clientes que deixam de utilizar os produtos ou serviços de uma empresa durante um determinado período de tempo. \n",
    "Captar novos clientes geralmente implica em custos mais elevados do que manter os clientes existentes na base. Isso se deve ao investimento necessário em marketing, publicidade e esforços de vendas para atrair e converter novos clientes. Além disso, os clientes existentes já estão familiarizados com a marca e podem exigir menos esforço para manter. Investir na retenção de clientes não apenas reduz os custos, mas também pode aumentar a lucratividade a longo prazo"
   ]
  },
  {
   "cell_type": "markdown",
   "id": "01fe35f3",
   "metadata": {},
   "source": [
    "### Problema de Negócio\n",
    "Vamos prever quais cliente deixaram o banco futuramente, de forma a trabalhar na retenção desses cliente antes que isso ocorra."
   ]
  },
  {
   "cell_type": "markdown",
   "id": "5d25620f",
   "metadata": {},
   "source": [
    "### Sobre o conjunto de dados\n",
    "\n",
    "*   *RowNumber* — corresponde ao número do registro (linha) e não tem efeito na saída.\n",
    "*   *CustomerId* – contém valores aleatórios e não afeta a saída do cliente do banco.\n",
    "*   *Surname* – o sobrenome de um cliente não tem impacto na decisão de deixar o banco.\n",
    "*   *CreditScore* – pode afetar a rotatividade de clientes, uma vez que um cliente com uma pontuação de crédito mais alta tem menos probabilidade de deixar o banco.\n",
    "*   *Geography* – a localização de um cliente pode afetar sua decisão de deixar o banco.\n",
    "*   *Gender* – é interessante explorar se o género desempenha um papel na saída de um cliente do banco.\n",
    "*   *Age* – isto é certamente relevante, uma vez que os clientes mais velhos têm menos probabilidades de abandonar o banco do que os mais jovens.\n",
    "*   *Tenure* – refere-se ao número de anos que o cliente é cliente do banco. * Normalmente, os clientes mais velhos são mais leais e menos propensos a deixar o banco.\n",
    "*   *Balance* – também um indicador muito bom da rotatividade de clientes, já que as pessoas com saldo mais alto em suas contas têm menos probabilidade de deixar o banco em comparação com aquelas com saldos mais baixos.\n",
    "*   *NumOfProducts* — refere-se ao número de produtos que um cliente comprou por meio do banco.\n",
    "*   *HasCrCard* – indica se um cliente possui ou não um cartão de crédito. Essa coluna também é relevante, pois quem tem cartão de crédito tem menor probabilidade de sair do banco.\n",
    "*   *IsActiveMember* – clientes ativos têm menos probabilidade de deixar o banco.\n",
    "*   *EstimatedSalary* – tal como acontece com o equilíbrio, as pessoas com salários mais baixos têm maior probabilidade de deixar o banco em comparação com aquelas com salários mais elevados.\n",
    "*   *Exited* – independentemente de o cliente ter saído ou não do banco."
   ]
  },
  {
   "cell_type": "markdown",
   "id": "6859ba3e",
   "metadata": {},
   "source": [
    "## Importando bibliotecas"
   ]
  },
  {
   "cell_type": "code",
   "execution_count": 1,
   "id": "e8be029e",
   "metadata": {},
   "outputs": [],
   "source": [
    "# Bibliotecas para manipulação de dados\n",
    "import pandas as pd\n",
    "import numpy as np\n",
    "\n",
    "# Bibliotecas para visualização gráfica\n",
    "import matplotlib.pyplot as plt\n",
    "import seaborn as sns\n",
    "\n",
    "# Bibliotecas metricas\n",
    "from sklearn.model_selection import train_test_split\n",
    "from sklearn.metrics import confusion_matrix, classification_report\n",
    "from sklearn.model_selection import GridSearchCV\n",
    "from sklearn.preprocessing import StandardScaler\n",
    "from sklearn.model_selection import cross_validate\n",
    "\n",
    "# Bibliotecas de Machine Learning\n",
    "from sklearn.dummy import DummyClassifier\n",
    "from sklearn.tree import DecisionTreeClassifier\n",
    "from sklearn.ensemble import RandomForestClassifier\n",
    "from xgboost import XGBClassifier\n",
    "from sklearn.decomposition import PCA"
   ]
  },
  {
   "cell_type": "markdown",
   "id": "f53d1da4",
   "metadata": {},
   "source": [
    "## Importando DataFrame"
   ]
  },
  {
   "cell_type": "code",
   "execution_count": 2,
   "id": "0caf6f51",
   "metadata": {},
   "outputs": [
    {
     "data": {
      "text/html": [
       "<div>\n",
       "<style scoped>\n",
       "    .dataframe tbody tr th:only-of-type {\n",
       "        vertical-align: middle;\n",
       "    }\n",
       "\n",
       "    .dataframe tbody tr th {\n",
       "        vertical-align: top;\n",
       "    }\n",
       "\n",
       "    .dataframe thead th {\n",
       "        text-align: right;\n",
       "    }\n",
       "</style>\n",
       "<table border=\"1\" class=\"dataframe\">\n",
       "  <thead>\n",
       "    <tr style=\"text-align: right;\">\n",
       "      <th></th>\n",
       "      <th>RowNumber</th>\n",
       "      <th>CustomerId</th>\n",
       "      <th>Surname</th>\n",
       "      <th>CreditScore</th>\n",
       "      <th>Geography</th>\n",
       "      <th>Gender</th>\n",
       "      <th>Age</th>\n",
       "      <th>Tenure</th>\n",
       "      <th>Balance</th>\n",
       "      <th>NumOfProducts</th>\n",
       "      <th>HasCrCard</th>\n",
       "      <th>IsActiveMember</th>\n",
       "      <th>EstimatedSalary</th>\n",
       "      <th>Exited</th>\n",
       "    </tr>\n",
       "  </thead>\n",
       "  <tbody>\n",
       "    <tr>\n",
       "      <th>0</th>\n",
       "      <td>1</td>\n",
       "      <td>15634602</td>\n",
       "      <td>Hargrave</td>\n",
       "      <td>619</td>\n",
       "      <td>France</td>\n",
       "      <td>Female</td>\n",
       "      <td>42</td>\n",
       "      <td>2</td>\n",
       "      <td>0.00</td>\n",
       "      <td>1</td>\n",
       "      <td>1</td>\n",
       "      <td>1</td>\n",
       "      <td>101348.88</td>\n",
       "      <td>1</td>\n",
       "    </tr>\n",
       "    <tr>\n",
       "      <th>1</th>\n",
       "      <td>2</td>\n",
       "      <td>15647311</td>\n",
       "      <td>Hill</td>\n",
       "      <td>608</td>\n",
       "      <td>Spain</td>\n",
       "      <td>Female</td>\n",
       "      <td>41</td>\n",
       "      <td>1</td>\n",
       "      <td>83807.86</td>\n",
       "      <td>1</td>\n",
       "      <td>0</td>\n",
       "      <td>1</td>\n",
       "      <td>112542.58</td>\n",
       "      <td>0</td>\n",
       "    </tr>\n",
       "    <tr>\n",
       "      <th>2</th>\n",
       "      <td>3</td>\n",
       "      <td>15619304</td>\n",
       "      <td>Onio</td>\n",
       "      <td>502</td>\n",
       "      <td>France</td>\n",
       "      <td>Female</td>\n",
       "      <td>42</td>\n",
       "      <td>8</td>\n",
       "      <td>159660.80</td>\n",
       "      <td>3</td>\n",
       "      <td>1</td>\n",
       "      <td>0</td>\n",
       "      <td>113931.57</td>\n",
       "      <td>1</td>\n",
       "    </tr>\n",
       "    <tr>\n",
       "      <th>3</th>\n",
       "      <td>4</td>\n",
       "      <td>15701354</td>\n",
       "      <td>Boni</td>\n",
       "      <td>699</td>\n",
       "      <td>France</td>\n",
       "      <td>Female</td>\n",
       "      <td>39</td>\n",
       "      <td>1</td>\n",
       "      <td>0.00</td>\n",
       "      <td>2</td>\n",
       "      <td>0</td>\n",
       "      <td>0</td>\n",
       "      <td>93826.63</td>\n",
       "      <td>0</td>\n",
       "    </tr>\n",
       "    <tr>\n",
       "      <th>4</th>\n",
       "      <td>5</td>\n",
       "      <td>15737888</td>\n",
       "      <td>Mitchell</td>\n",
       "      <td>850</td>\n",
       "      <td>Spain</td>\n",
       "      <td>Female</td>\n",
       "      <td>43</td>\n",
       "      <td>2</td>\n",
       "      <td>125510.82</td>\n",
       "      <td>1</td>\n",
       "      <td>1</td>\n",
       "      <td>1</td>\n",
       "      <td>79084.10</td>\n",
       "      <td>0</td>\n",
       "    </tr>\n",
       "  </tbody>\n",
       "</table>\n",
       "</div>"
      ],
      "text/plain": [
       "   RowNumber  CustomerId   Surname  CreditScore Geography  Gender  Age  \\\n",
       "0          1    15634602  Hargrave          619    France  Female   42   \n",
       "1          2    15647311      Hill          608     Spain  Female   41   \n",
       "2          3    15619304      Onio          502    France  Female   42   \n",
       "3          4    15701354      Boni          699    France  Female   39   \n",
       "4          5    15737888  Mitchell          850     Spain  Female   43   \n",
       "\n",
       "   Tenure    Balance  NumOfProducts  HasCrCard  IsActiveMember  \\\n",
       "0       2       0.00              1          1               1   \n",
       "1       1   83807.86              1          0               1   \n",
       "2       8  159660.80              3          1               0   \n",
       "3       1       0.00              2          0               0   \n",
       "4       2  125510.82              1          1               1   \n",
       "\n",
       "   EstimatedSalary  Exited  \n",
       "0        101348.88       1  \n",
       "1        112542.58       0  \n",
       "2        113931.57       1  \n",
       "3         93826.63       0  \n",
       "4         79084.10       0  "
      ]
     },
     "execution_count": 2,
     "metadata": {},
     "output_type": "execute_result"
    }
   ],
   "source": [
    "url = 'https://raw.githubusercontent.com/MARINHOALEX/Churn-Bancario/main/Churn_Modelling.csv'\n",
    "df = pd.read_csv(url)\n",
    "\n",
    "df.head()"
   ]
  },
  {
   "cell_type": "markdown",
   "id": "4350bae4",
   "metadata": {},
   "source": [
    "**A coluna Exited indica quais clientes deixaram o banco.**\n",
    "\n",
    "**0: clientes que não sairam - 1: clientes que sairam** "
   ]
  },
  {
   "cell_type": "markdown",
   "id": "f1434768",
   "metadata": {},
   "source": [
    "## Analisando DataFrame"
   ]
  },
  {
   "cell_type": "code",
   "execution_count": 3,
   "id": "8da99b08",
   "metadata": {},
   "outputs": [
    {
     "data": {
      "text/plain": [
       "(10000, 14)"
      ]
     },
     "execution_count": 3,
     "metadata": {},
     "output_type": "execute_result"
    }
   ],
   "source": [
    "# Verificando dimensões\n",
    "df.shape"
   ]
  },
  {
   "cell_type": "code",
   "execution_count": 4,
   "id": "fe7695e6",
   "metadata": {},
   "outputs": [
    {
     "data": {
      "text/plain": [
       "RowNumber          0\n",
       "CustomerId         0\n",
       "Surname            0\n",
       "CreditScore        0\n",
       "Geography          0\n",
       "Gender             0\n",
       "Age                0\n",
       "Tenure             0\n",
       "Balance            0\n",
       "NumOfProducts      0\n",
       "HasCrCard          0\n",
       "IsActiveMember     0\n",
       "EstimatedSalary    0\n",
       "Exited             0\n",
       "dtype: int64"
      ]
     },
     "execution_count": 4,
     "metadata": {},
     "output_type": "execute_result"
    }
   ],
   "source": [
    "# Verificando se há valores nulos\n",
    "df.isnull().sum()"
   ]
  },
  {
   "cell_type": "code",
   "execution_count": 5,
   "id": "7c88927e",
   "metadata": {},
   "outputs": [
    {
     "name": "stdout",
     "output_type": "stream",
     "text": [
      "<class 'pandas.core.frame.DataFrame'>\n",
      "RangeIndex: 10000 entries, 0 to 9999\n",
      "Data columns (total 14 columns):\n",
      " #   Column           Non-Null Count  Dtype  \n",
      "---  ------           --------------  -----  \n",
      " 0   RowNumber        10000 non-null  int64  \n",
      " 1   CustomerId       10000 non-null  int64  \n",
      " 2   Surname          10000 non-null  object \n",
      " 3   CreditScore      10000 non-null  int64  \n",
      " 4   Geography        10000 non-null  object \n",
      " 5   Gender           10000 non-null  object \n",
      " 6   Age              10000 non-null  int64  \n",
      " 7   Tenure           10000 non-null  int64  \n",
      " 8   Balance          10000 non-null  float64\n",
      " 9   NumOfProducts    10000 non-null  int64  \n",
      " 10  HasCrCard        10000 non-null  int64  \n",
      " 11  IsActiveMember   10000 non-null  int64  \n",
      " 12  EstimatedSalary  10000 non-null  float64\n",
      " 13  Exited           10000 non-null  int64  \n",
      "dtypes: float64(2), int64(9), object(3)\n",
      "memory usage: 1.1+ MB\n"
     ]
    }
   ],
   "source": [
    "# Verificando tipos de colunas\n",
    "df.info()"
   ]
  },
  {
   "cell_type": "markdown",
   "id": "ac509fff",
   "metadata": {},
   "source": [
    "**Vamos criar um loop para analisar as colunas do tipo objeto**"
   ]
  },
  {
   "cell_type": "code",
   "execution_count": 6,
   "id": "c7a066da",
   "metadata": {},
   "outputs": [
    {
     "name": "stdout",
     "output_type": "stream",
     "text": [
      "Coluna Surname\n",
      "Quantidade de valores unicos: 2932\n",
      "Smith     32\n",
      "Martin    29\n",
      "Scott     29\n",
      "Walker    28\n",
      "Brown     26\n",
      "          ..\n",
      "Salter     1\n",
      "Landor     1\n",
      "Toth       1\n",
      "Swaim      1\n",
      "Yoo        1\n",
      "Name: Surname, Length: 2932, dtype: int64\n",
      "--------------------------------------------------\n",
      "Coluna Geography\n",
      "Quantidade de valores unicos: 3\n",
      "France     5014\n",
      "Germany    2509\n",
      "Spain      2477\n",
      "Name: Geography, dtype: int64\n",
      "--------------------------------------------------\n",
      "Coluna Gender\n",
      "Quantidade de valores unicos: 2\n",
      "Male      5457\n",
      "Female    4543\n",
      "Name: Gender, dtype: int64\n",
      "--------------------------------------------------\n"
     ]
    }
   ],
   "source": [
    "# Avaliando colunas do tipo objetpo\n",
    "for coluna in df.columns[df.dtypes == 'object']:\n",
    "    print(f'Coluna {coluna}')\n",
    "    print(f'Quantidade de valores unicos: {df[coluna].nunique()}')\n",
    "    print(df[coluna].value_counts())\n",
    "    print('-'*50)"
   ]
  },
  {
   "cell_type": "markdown",
   "id": "292a891d",
   "metadata": {},
   "source": [
    "**Vamos descartar a coluna Surname, e converter as colunas Geograpy e Gender para valores numéricos**"
   ]
  },
  {
   "cell_type": "code",
   "execution_count": 7,
   "id": "f93a3d78",
   "metadata": {},
   "outputs": [
    {
     "name": "stdout",
     "output_type": "stream",
     "text": [
      "      Geography  Gender\n",
      "0             0       0\n",
      "1             2       0\n",
      "2             0       0\n",
      "3             0       0\n",
      "4             2       0\n",
      "...         ...     ...\n",
      "9995          0       1\n",
      "9996          0       1\n",
      "9997          0       0\n",
      "9998          1       1\n",
      "9999          0       0\n",
      "\n",
      "[10000 rows x 2 columns]\n"
     ]
    }
   ],
   "source": [
    "df.Geography = df.Geography.replace({'France':0,\n",
    "                                    'Germany':1,\n",
    "                                    'Spain':2})\n",
    "df.Gender = df.Gender.replace({'Female':0, 'Male':1})\n",
    "df.drop(columns=['Surname', 'RowNumber', 'CustomerId'], inplace=True)\n",
    "print(df[['Geography', 'Gender']])"
   ]
  },
  {
   "cell_type": "code",
   "execution_count": 8,
   "id": "904bb367",
   "metadata": {},
   "outputs": [],
   "source": [
    "# Definindo função para analise grafica\n",
    "def analise_coluna(num):\n",
    "    coluna = df.columns[num]\n",
    "    print(f'Coluna: {coluna}\\n')\n",
    "    print(f'Quantidade de valores unicos: {df[coluna].nunique()}')\n",
    "    print(f'Valores que mais de repetem:\\n{df[coluna].value_counts().head()}')\n",
    "    print('_'*50)\n",
    "    print(f'Moda: {df[coluna].mode()[0]}')\n",
    "    print(f'Est. descritivas:\\n{df[coluna].describe()}')\n",
    "    print('_'*50)\n",
    "    if df[coluna].value_counts().shape[0] > 5:\n",
    "        sns.histplot(df,\n",
    "                     x=coluna,\n",
    "                     bins=100,\n",
    "                     kde=True,\n",
    "                     hue='Exited');\n",
    "        plt.title(coluna)\n",
    "        plt.show()\n",
    "    else:\n",
    "        sns.countplot(data=df,\n",
    "                    x=coluna,\n",
    "                    hue='Exited');\n",
    "        plt.title(coluna)\n",
    "        plt.show()\n",
    "        print(f'Percentual de saída por categoria:\\n{(df[df.Exited == 1][coluna].value_counts() / df[df.Exited == 1].shape[0])}')"
   ]
  },
  {
   "cell_type": "markdown",
   "id": "c082aa6b",
   "metadata": {},
   "source": [
    "## Analisando as labels"
   ]
  },
  {
   "cell_type": "code",
   "execution_count": 9,
   "id": "41eaf9b5",
   "metadata": {
    "scrolled": false
   },
   "outputs": [
    {
     "name": "stdout",
     "output_type": "stream",
     "text": [
      "Coluna: CreditScore\n",
      "\n",
      "Quantidade de valores unicos: 460\n",
      "Valores que mais de repetem:\n",
      "850    233\n",
      "678     63\n",
      "655     54\n",
      "667     53\n",
      "705     53\n",
      "Name: CreditScore, dtype: int64\n",
      "__________________________________________________\n",
      "Moda: 850\n",
      "Est. descritivas:\n",
      "count    10000.000000\n",
      "mean       650.528800\n",
      "std         96.653299\n",
      "min        350.000000\n",
      "25%        584.000000\n",
      "50%        652.000000\n",
      "75%        718.000000\n",
      "max        850.000000\n",
      "Name: CreditScore, dtype: float64\n",
      "__________________________________________________\n"
     ]
    },
    {
     "data": {
      "image/png": "[encoded data removed]",
      "text/plain": [
       "<Figure size 432x288 with 1 Axes>"
      ]
     },
     "metadata": {
      "needs_background": "light"
     },
     "output_type": "display_data"
    }
   ],
   "source": [
    "analise_coluna(0)"
   ]
  },
  {
   "cell_type": "code",
   "execution_count": 10,
   "id": "f00af42d",
   "metadata": {},
   "outputs": [
    {
     "data": {
      "image/png": "[encoded data removed]",
      "text/plain": [
       "<Figure size 1080x288 with 1 Axes>"
      ]
     },
     "metadata": {
      "needs_background": "light"
     },
     "output_type": "display_data"
    }
   ],
   "source": [
    "plt.figure(figsize=(15,4))\n",
    "sns.boxplot(x=df['CreditScore'],hue=df['Exited']);"
   ]
  },
  {
   "cell_type": "code",
   "execution_count": 11,
   "id": "cf04aa37",
   "metadata": {},
   "outputs": [
    {
     "name": "stdout",
     "output_type": "stream",
     "text": [
      "Coluna: Geography\n",
      "\n",
      "Quantidade de valores unicos: 3\n",
      "Valores que mais de repetem:\n",
      "0    5014\n",
      "1    2509\n",
      "2    2477\n",
      "Name: Geography, dtype: int64\n",
      "__________________________________________________\n",
      "Moda: 0\n",
      "Est. descritivas:\n",
      "count    10000.000000\n",
      "mean         0.746300\n",
      "std          0.827529\n",
      "min          0.000000\n",
      "25%          0.000000\n",
      "50%          0.000000\n",
      "75%          1.000000\n",
      "max          2.000000\n",
      "Name: Geography, dtype: float64\n",
      "__________________________________________________\n"
     ]
    },
    {
     "data": {
      "image/png": "[encoded data removed]",
      "text/plain": [
       "<Figure size 432x288 with 1 Axes>"
      ]
     },
     "metadata": {
      "needs_background": "light"
     },
     "output_type": "display_data"
    },
    {
     "name": "stdout",
     "output_type": "stream",
     "text": [
      "Percentual de saída por categoria:\n",
      "1    0.399607\n",
      "0    0.397644\n",
      "2    0.202749\n",
      "Name: Geography, dtype: float64\n"
     ]
    }
   ],
   "source": [
    "analise_coluna(1)"
   ]
  },
  {
   "cell_type": "markdown",
   "id": "6f7acd66",
   "metadata": {},
   "source": [
    "**Cliente das Alemanha tem maior percentual de saída porporcionalmente a quantidade de contas**"
   ]
  },
  {
   "cell_type": "code",
   "execution_count": 12,
   "id": "afdbd275",
   "metadata": {},
   "outputs": [
    {
     "name": "stdout",
     "output_type": "stream",
     "text": [
      "Coluna: Gender\n",
      "\n",
      "Quantidade de valores unicos: 2\n",
      "Valores que mais de repetem:\n",
      "1    5457\n",
      "0    4543\n",
      "Name: Gender, dtype: int64\n",
      "__________________________________________________\n",
      "Moda: 1\n",
      "Est. descritivas:\n",
      "count    10000.000000\n",
      "mean         0.545700\n",
      "std          0.497932\n",
      "min          0.000000\n",
      "25%          0.000000\n",
      "50%          1.000000\n",
      "75%          1.000000\n",
      "max          1.000000\n",
      "Name: Gender, dtype: float64\n",
      "__________________________________________________\n"
     ]
    },
    {
     "data": {
      "image/png": "[encoded data removed]",
      "text/plain": [
       "<Figure size 432x288 with 1 Axes>"
      ]
     },
     "metadata": {
      "needs_background": "light"
     },
     "output_type": "display_data"
    },
    {
     "name": "stdout",
     "output_type": "stream",
     "text": [
      "Percentual de saída por categoria:\n",
      "0    0.559156\n",
      "1    0.440844\n",
      "Name: Gender, dtype: float64\n"
     ]
    }
   ],
   "source": [
    "analise_coluna(2)"
   ]
  },
  {
   "cell_type": "markdown",
   "id": "f57fb9e8",
   "metadata": {},
   "source": [
    "**Podemos identificar uma tendencia maior de churn entre a mulheres**"
   ]
  },
  {
   "cell_type": "code",
   "execution_count": 13,
   "id": "c0f161fb",
   "metadata": {},
   "outputs": [
    {
     "name": "stdout",
     "output_type": "stream",
     "text": [
      "Coluna: Age\n",
      "\n",
      "Quantidade de valores unicos: 70\n",
      "Valores que mais de repetem:\n",
      "37    478\n",
      "38    477\n",
      "35    474\n",
      "36    456\n",
      "34    447\n",
      "Name: Age, dtype: int64\n",
      "__________________________________________________\n",
      "Moda: 37\n",
      "Est. descritivas:\n",
      "count    10000.000000\n",
      "mean        38.921800\n",
      "std         10.487806\n",
      "min         18.000000\n",
      "25%         32.000000\n",
      "50%         37.000000\n",
      "75%         44.000000\n",
      "max         92.000000\n",
      "Name: Age, dtype: float64\n",
      "__________________________________________________\n"
     ]
    },
    {
     "data": {
      "image/png": "[encoded data removed]",
      "text/plain": [
       "<Figure size 432x288 with 1 Axes>"
      ]
     },
     "metadata": {
      "needs_background": "light"
     },
     "output_type": "display_data"
    }
   ],
   "source": [
    "analise_coluna(3)"
   ]
  },
  {
   "cell_type": "markdown",
   "id": "b44f7a52",
   "metadata": {},
   "source": [
    "**Aqui identificamos uma proporção de churn mais alto a partir dos 40 anos**"
   ]
  },
  {
   "cell_type": "code",
   "execution_count": 14,
   "id": "8e31603b",
   "metadata": {},
   "outputs": [
    {
     "name": "stdout",
     "output_type": "stream",
     "text": [
      "Coluna: Tenure\n",
      "\n",
      "Quantidade de valores unicos: 11\n",
      "Valores que mais de repetem:\n",
      "2    1048\n",
      "1    1035\n",
      "7    1028\n",
      "8    1025\n",
      "5    1012\n",
      "Name: Tenure, dtype: int64\n",
      "__________________________________________________\n",
      "Moda: 2\n",
      "Est. descritivas:\n",
      "count    10000.000000\n",
      "mean         5.012800\n",
      "std          2.892174\n",
      "min          0.000000\n",
      "25%          3.000000\n",
      "50%          5.000000\n",
      "75%          7.000000\n",
      "max         10.000000\n",
      "Name: Tenure, dtype: float64\n",
      "__________________________________________________\n"
     ]
    },
    {
     "data": {
      "image/png": "[encoded data removed]",
      "text/plain": [
       "<Figure size 432x288 with 1 Axes>"
      ]
     },
     "metadata": {
      "needs_background": "light"
     },
     "output_type": "display_data"
    }
   ],
   "source": [
    "analise_coluna(4)"
   ]
  },
  {
   "cell_type": "code",
   "execution_count": 15,
   "id": "65d92dcd",
   "metadata": {},
   "outputs": [
    {
     "name": "stdout",
     "output_type": "stream",
     "text": [
      "Coluna: Balance\n",
      "\n",
      "Quantidade de valores unicos: 6382\n",
      "Valores que mais de repetem:\n",
      "0.00         3617\n",
      "105473.74       2\n",
      "130170.82       2\n",
      "72594.00        1\n",
      "139723.90       1\n",
      "Name: Balance, dtype: int64\n",
      "__________________________________________________\n",
      "Moda: 0.0\n",
      "Est. descritivas:\n",
      "count     10000.000000\n",
      "mean      76485.889288\n",
      "std       62397.405202\n",
      "min           0.000000\n",
      "25%           0.000000\n",
      "50%       97198.540000\n",
      "75%      127644.240000\n",
      "max      250898.090000\n",
      "Name: Balance, dtype: float64\n",
      "__________________________________________________\n"
     ]
    },
    {
     "data": {
      "image/png": "[encoded data removed]",
      "text/plain": [
       "<Figure size 432x288 with 1 Axes>"
      ]
     },
     "metadata": {
      "needs_background": "light"
     },
     "output_type": "display_data"
    }
   ],
   "source": [
    "analise_coluna(5)"
   ]
  },
  {
   "cell_type": "code",
   "execution_count": 16,
   "id": "6fe98c29",
   "metadata": {},
   "outputs": [
    {
     "name": "stdout",
     "output_type": "stream",
     "text": [
      "Coluna: NumOfProducts\n",
      "\n",
      "Quantidade de valores unicos: 4\n",
      "Valores que mais de repetem:\n",
      "1    5084\n",
      "2    4590\n",
      "3     266\n",
      "4      60\n",
      "Name: NumOfProducts, dtype: int64\n",
      "__________________________________________________\n",
      "Moda: 1\n",
      "Est. descritivas:\n",
      "count    10000.000000\n",
      "mean         1.530200\n",
      "std          0.581654\n",
      "min          1.000000\n",
      "25%          1.000000\n",
      "50%          1.000000\n",
      "75%          2.000000\n",
      "max          4.000000\n",
      "Name: NumOfProducts, dtype: float64\n",
      "__________________________________________________\n"
     ]
    },
    {
     "data": {
      "image/png": "[encoded data removed]",
      "text/plain": [
       "<Figure size 432x288 with 1 Axes>"
      ]
     },
     "metadata": {
      "needs_background": "light"
     },
     "output_type": "display_data"
    },
    {
     "name": "stdout",
     "output_type": "stream",
     "text": [
      "Percentual de saída por categoria:\n",
      "1    0.691703\n",
      "2    0.170839\n",
      "3    0.108002\n",
      "4    0.029455\n",
      "Name: NumOfProducts, dtype: float64\n"
     ]
    }
   ],
   "source": [
    "analise_coluna(6)"
   ]
  },
  {
   "cell_type": "code",
   "execution_count": 17,
   "id": "84c89235",
   "metadata": {},
   "outputs": [
    {
     "name": "stdout",
     "output_type": "stream",
     "text": [
      "Coluna: HasCrCard\n",
      "\n",
      "Quantidade de valores unicos: 2\n",
      "Valores que mais de repetem:\n",
      "1    7055\n",
      "0    2945\n",
      "Name: HasCrCard, dtype: int64\n",
      "__________________________________________________\n",
      "Moda: 1\n",
      "Est. descritivas:\n",
      "count    10000.00000\n",
      "mean         0.70550\n",
      "std          0.45584\n",
      "min          0.00000\n",
      "25%          0.00000\n",
      "50%          1.00000\n",
      "75%          1.00000\n",
      "max          1.00000\n",
      "Name: HasCrCard, dtype: float64\n",
      "__________________________________________________\n"
     ]
    },
    {
     "data": {
      "image/png": "[encoded data removed]",
      "text/plain": [
       "<Figure size 432x288 with 1 Axes>"
      ]
     },
     "metadata": {
      "needs_background": "light"
     },
     "output_type": "display_data"
    },
    {
     "name": "stdout",
     "output_type": "stream",
     "text": [
      "Percentual de saída por categoria:\n",
      "1    0.699067\n",
      "0    0.300933\n",
      "Name: HasCrCard, dtype: float64\n"
     ]
    }
   ],
   "source": [
    "analise_coluna(7)"
   ]
  },
  {
   "cell_type": "code",
   "execution_count": 18,
   "id": "35ceb186",
   "metadata": {},
   "outputs": [
    {
     "name": "stdout",
     "output_type": "stream",
     "text": [
      "Coluna: IsActiveMember\n",
      "\n",
      "Quantidade de valores unicos: 2\n",
      "Valores que mais de repetem:\n",
      "1    5151\n",
      "0    4849\n",
      "Name: IsActiveMember, dtype: int64\n",
      "__________________________________________________\n",
      "Moda: 1\n",
      "Est. descritivas:\n",
      "count    10000.000000\n",
      "mean         0.515100\n",
      "std          0.499797\n",
      "min          0.000000\n",
      "25%          0.000000\n",
      "50%          1.000000\n",
      "75%          1.000000\n",
      "max          1.000000\n",
      "Name: IsActiveMember, dtype: float64\n",
      "__________________________________________________\n"
     ]
    },
    {
     "data": {
      "image/png": "[encoded data removed]",
      "text/plain": [
       "<Figure size 432x288 with 1 Axes>"
      ]
     },
     "metadata": {
      "needs_background": "light"
     },
     "output_type": "display_data"
    },
    {
     "name": "stdout",
     "output_type": "stream",
     "text": [
      "Percentual de saída por categoria:\n",
      "0    0.639175\n",
      "1    0.360825\n",
      "Name: IsActiveMember, dtype: float64\n"
     ]
    }
   ],
   "source": [
    "analise_coluna(8)"
   ]
  },
  {
   "cell_type": "code",
   "execution_count": 19,
   "id": "3be88ee3",
   "metadata": {},
   "outputs": [
    {
     "name": "stdout",
     "output_type": "stream",
     "text": [
      "Coluna: EstimatedSalary\n",
      "\n",
      "Quantidade de valores unicos: 9999\n",
      "Valores que mais de repetem:\n",
      "24924.92     2\n",
      "109145.20    1\n",
      "59755.14     1\n",
      "1557.82      1\n",
      "117202.19    1\n",
      "Name: EstimatedSalary, dtype: int64\n",
      "__________________________________________________\n",
      "Moda: 24924.92\n",
      "Est. descritivas:\n",
      "count     10000.000000\n",
      "mean     100090.239881\n",
      "std       57510.492818\n",
      "min          11.580000\n",
      "25%       51002.110000\n",
      "50%      100193.915000\n",
      "75%      149388.247500\n",
      "max      199992.480000\n",
      "Name: EstimatedSalary, dtype: float64\n",
      "__________________________________________________\n"
     ]
    },
    {
     "data": {
      "image/png": "[encoded data removed]",
      "text/plain": [
       "<Figure size 432x288 with 1 Axes>"
      ]
     },
     "metadata": {
      "needs_background": "light"
     },
     "output_type": "display_data"
    }
   ],
   "source": [
    "analise_coluna(9)"
   ]
  },
  {
   "cell_type": "code",
   "execution_count": 20,
   "id": "44740b6c",
   "metadata": {},
   "outputs": [
    {
     "name": "stdout",
     "output_type": "stream",
     "text": [
      "Coluna: Exited\n",
      "\n",
      "Quantidade de valores unicos: 2\n",
      "Valores que mais de repetem:\n",
      "0    7963\n",
      "1    2037\n",
      "Name: Exited, dtype: int64\n",
      "__________________________________________________\n",
      "Moda: 0\n",
      "Est. descritivas:\n",
      "count    10000.000000\n",
      "mean         0.203700\n",
      "std          0.402769\n",
      "min          0.000000\n",
      "25%          0.000000\n",
      "50%          0.000000\n",
      "75%          0.000000\n",
      "max          1.000000\n",
      "Name: Exited, dtype: float64\n",
      "__________________________________________________\n"
     ]
    },
    {
     "data": {
      "image/png": "[encoded data removed]",
      "text/plain": [
       "<Figure size 432x288 with 1 Axes>"
      ]
     },
     "metadata": {
      "needs_background": "light"
     },
     "output_type": "display_data"
    },
    {
     "name": "stdout",
     "output_type": "stream",
     "text": [
      "Percentual de saída por categoria:\n",
      "1    1.0\n",
      "Name: Exited, dtype: float64\n"
     ]
    }
   ],
   "source": [
    "analise_coluna(10)"
   ]
  },
  {
   "cell_type": "markdown",
   "id": "aed27571",
   "metadata": {},
   "source": [
    "## Analisando matriz de correlação de Pearson"
   ]
  },
  {
   "cell_type": "code",
   "execution_count": 21,
   "id": "93985c6e",
   "metadata": {},
   "outputs": [
    {
     "data": {
      "image/png": "[encoded data removed]",
      "text/plain": [
       "<Figure size 1080x720 with 2 Axes>"
      ]
     },
     "metadata": {
      "needs_background": "light"
     },
     "output_type": "display_data"
    }
   ],
   "source": [
    "plt.figure(figsize=(15,10))\n",
    "plt.show(sns.heatmap(df.corr(), fmt='.3f', cmap='seismic', annot=True))"
   ]
  },
  {
   "cell_type": "markdown",
   "id": "d39c2e23",
   "metadata": {},
   "source": [
    "**Aparentemente as labels abaixo explicam a maior parte dos motivos de churn**"
   ]
  },
  {
   "cell_type": "code",
   "execution_count": 22,
   "id": "284ea249",
   "metadata": {},
   "outputs": [
    {
     "data": {
      "text/plain": [
       "Gender           -0.106512\n",
       "Age               0.285323\n",
       "Balance           0.118533\n",
       "IsActiveMember   -0.156128\n",
       "Exited            1.000000\n",
       "Name: Exited, dtype: float64"
      ]
     },
     "execution_count": 22,
     "metadata": {},
     "output_type": "execute_result"
    }
   ],
   "source": [
    "df.corr()[(df.corr()['Exited'] > 0.1)|(df.corr()['Exited'] < -0.1)]['Exited']"
   ]
  },
  {
   "cell_type": "markdown",
   "id": "0deb37b3",
   "metadata": {},
   "source": [
    "## Separando dataframe em X e y e em treino e teste"
   ]
  },
  {
   "cell_type": "code",
   "execution_count": 23,
   "id": "fc958451",
   "metadata": {},
   "outputs": [
    {
     "data": {
      "text/plain": [
       "((7000, 10), (3000, 10), (7000,), (3000,))"
      ]
     },
     "execution_count": 23,
     "metadata": {},
     "output_type": "execute_result"
    }
   ],
   "source": [
    "X = df.drop(columns='Exited')\n",
    "y = df.Exited\n",
    "\n",
    "SEED = 1230\n",
    "np.random.seed(SEED)\n",
    "\n",
    "X_train, X_test, y_train, y_test = train_test_split(X, y, test_size=0.3, random_state=SEED)\n",
    "\n",
    "X_train.shape, X_test.shape, y_train.shape, y_test.shape "
   ]
  },
  {
   "cell_type": "markdown",
   "id": "01c4e6ac",
   "metadata": {},
   "source": [
    "## Aplicando modelagem"
   ]
  },
  {
   "cell_type": "code",
   "execution_count": 24,
   "id": "6add189e",
   "metadata": {},
   "outputs": [
    {
     "name": "stdout",
     "output_type": "stream",
     "text": [
      "A Baseline é: 79.63%\n"
     ]
    }
   ],
   "source": [
    "# Criando Baseline\n",
    "baseline = DummyClassifier()\n",
    "baseline.fit(X_train, y_train)\n",
    "print(f'A Baseline é: {baseline.score(X_test, y_test)*100:.2f}%')\n"
   ]
  },
  {
   "cell_type": "code",
   "execution_count": 25,
   "id": "398374e9",
   "metadata": {},
   "outputs": [
    {
     "name": "stdout",
     "output_type": "stream",
     "text": [
      "Acuracia DecisionTreeClassifier: 79.00%\n"
     ]
    }
   ],
   "source": [
    "# Modelo DecisionTreeClassifier\n",
    "dtc = DecisionTreeClassifier(random_state=SEED)\n",
    "dtc.fit(X_train, y_train)\n",
    "\n",
    "dtc_scores = dtc.score(X_test, y_test)\n",
    "\n",
    "print(f'Acuracia DecisionTreeClassifier: {dtc_scores*100:.2f}%')"
   ]
  },
  {
   "cell_type": "code",
   "execution_count": 26,
   "id": "534b87a1",
   "metadata": {},
   "outputs": [
    {
     "name": "stdout",
     "output_type": "stream",
     "text": [
      "Acuracia RandomForestClassifier: 85.93%\n"
     ]
    }
   ],
   "source": [
    "# Modelo RandomForestClassifier\n",
    "rfc = RandomForestClassifier(random_state=SEED)\n",
    "rfc.fit(X_train, y_train)\n",
    "\n",
    "rfc_score = rfc.score(X_test, y_test)\n",
    "\n",
    "print(f'Acuracia RandomForestClassifier: {rfc_score*100:.2f}%')"
   ]
  },
  {
   "cell_type": "code",
   "execution_count": 27,
   "id": "1d34060a",
   "metadata": {},
   "outputs": [
    {
     "name": "stdout",
     "output_type": "stream",
     "text": [
      "Acuracia XGBClassifier: 85.77%\n"
     ]
    }
   ],
   "source": [
    "# Modelos XGBoost\n",
    "xgb = XGBClassifier(random_state=SEED)\n",
    "xgb.fit(X_train, y_train)\n",
    "\n",
    "xgb_score = xgb.score(X_test, y_test)\n",
    "\n",
    "print(f'Acuracia XGBClassifier: {xgb_score*100:.2f}%')"
   ]
  },
  {
   "cell_type": "markdown",
   "id": "b77c94c5",
   "metadata": {},
   "source": [
    "**O melhor modelo foi o de RandomForest**"
   ]
  },
  {
   "cell_type": "code",
   "execution_count": 28,
   "id": "36ec6272",
   "metadata": {},
   "outputs": [
    {
     "data": {
      "text/html": [
       "<div>\n",
       "<style scoped>\n",
       "    .dataframe tbody tr th:only-of-type {\n",
       "        vertical-align: middle;\n",
       "    }\n",
       "\n",
       "    .dataframe tbody tr th {\n",
       "        vertical-align: top;\n",
       "    }\n",
       "\n",
       "    .dataframe thead th {\n",
       "        text-align: right;\n",
       "    }\n",
       "</style>\n",
       "<table border=\"1\" class=\"dataframe\">\n",
       "  <thead>\n",
       "    <tr style=\"text-align: right;\">\n",
       "      <th></th>\n",
       "      <th>count</th>\n",
       "      <th>mean</th>\n",
       "      <th>std</th>\n",
       "      <th>min</th>\n",
       "      <th>25%</th>\n",
       "      <th>50%</th>\n",
       "      <th>75%</th>\n",
       "      <th>max</th>\n",
       "    </tr>\n",
       "  </thead>\n",
       "  <tbody>\n",
       "    <tr>\n",
       "      <th>CreditScore</th>\n",
       "      <td>10000.0</td>\n",
       "      <td>650.528800</td>\n",
       "      <td>96.653299</td>\n",
       "      <td>350.00</td>\n",
       "      <td>584.00</td>\n",
       "      <td>652.000</td>\n",
       "      <td>718.0000</td>\n",
       "      <td>850.00</td>\n",
       "    </tr>\n",
       "    <tr>\n",
       "      <th>Geography</th>\n",
       "      <td>10000.0</td>\n",
       "      <td>0.746300</td>\n",
       "      <td>0.827529</td>\n",
       "      <td>0.00</td>\n",
       "      <td>0.00</td>\n",
       "      <td>0.000</td>\n",
       "      <td>1.0000</td>\n",
       "      <td>2.00</td>\n",
       "    </tr>\n",
       "    <tr>\n",
       "      <th>Gender</th>\n",
       "      <td>10000.0</td>\n",
       "      <td>0.545700</td>\n",
       "      <td>0.497932</td>\n",
       "      <td>0.00</td>\n",
       "      <td>0.00</td>\n",
       "      <td>1.000</td>\n",
       "      <td>1.0000</td>\n",
       "      <td>1.00</td>\n",
       "    </tr>\n",
       "    <tr>\n",
       "      <th>Age</th>\n",
       "      <td>10000.0</td>\n",
       "      <td>38.921800</td>\n",
       "      <td>10.487806</td>\n",
       "      <td>18.00</td>\n",
       "      <td>32.00</td>\n",
       "      <td>37.000</td>\n",
       "      <td>44.0000</td>\n",
       "      <td>92.00</td>\n",
       "    </tr>\n",
       "    <tr>\n",
       "      <th>Tenure</th>\n",
       "      <td>10000.0</td>\n",
       "      <td>5.012800</td>\n",
       "      <td>2.892174</td>\n",
       "      <td>0.00</td>\n",
       "      <td>3.00</td>\n",
       "      <td>5.000</td>\n",
       "      <td>7.0000</td>\n",
       "      <td>10.00</td>\n",
       "    </tr>\n",
       "    <tr>\n",
       "      <th>Balance</th>\n",
       "      <td>10000.0</td>\n",
       "      <td>76485.889288</td>\n",
       "      <td>62397.405202</td>\n",
       "      <td>0.00</td>\n",
       "      <td>0.00</td>\n",
       "      <td>97198.540</td>\n",
       "      <td>127644.2400</td>\n",
       "      <td>250898.09</td>\n",
       "    </tr>\n",
       "    <tr>\n",
       "      <th>NumOfProducts</th>\n",
       "      <td>10000.0</td>\n",
       "      <td>1.530200</td>\n",
       "      <td>0.581654</td>\n",
       "      <td>1.00</td>\n",
       "      <td>1.00</td>\n",
       "      <td>1.000</td>\n",
       "      <td>2.0000</td>\n",
       "      <td>4.00</td>\n",
       "    </tr>\n",
       "    <tr>\n",
       "      <th>HasCrCard</th>\n",
       "      <td>10000.0</td>\n",
       "      <td>0.705500</td>\n",
       "      <td>0.455840</td>\n",
       "      <td>0.00</td>\n",
       "      <td>0.00</td>\n",
       "      <td>1.000</td>\n",
       "      <td>1.0000</td>\n",
       "      <td>1.00</td>\n",
       "    </tr>\n",
       "    <tr>\n",
       "      <th>IsActiveMember</th>\n",
       "      <td>10000.0</td>\n",
       "      <td>0.515100</td>\n",
       "      <td>0.499797</td>\n",
       "      <td>0.00</td>\n",
       "      <td>0.00</td>\n",
       "      <td>1.000</td>\n",
       "      <td>1.0000</td>\n",
       "      <td>1.00</td>\n",
       "    </tr>\n",
       "    <tr>\n",
       "      <th>EstimatedSalary</th>\n",
       "      <td>10000.0</td>\n",
       "      <td>100090.239881</td>\n",
       "      <td>57510.492818</td>\n",
       "      <td>11.58</td>\n",
       "      <td>51002.11</td>\n",
       "      <td>100193.915</td>\n",
       "      <td>149388.2475</td>\n",
       "      <td>199992.48</td>\n",
       "    </tr>\n",
       "    <tr>\n",
       "      <th>Exited</th>\n",
       "      <td>10000.0</td>\n",
       "      <td>0.203700</td>\n",
       "      <td>0.402769</td>\n",
       "      <td>0.00</td>\n",
       "      <td>0.00</td>\n",
       "      <td>0.000</td>\n",
       "      <td>0.0000</td>\n",
       "      <td>1.00</td>\n",
       "    </tr>\n",
       "  </tbody>\n",
       "</table>\n",
       "</div>"
      ],
      "text/plain": [
       "                   count           mean           std     min       25%  \\\n",
       "CreditScore      10000.0     650.528800     96.653299  350.00    584.00   \n",
       "Geography        10000.0       0.746300      0.827529    0.00      0.00   \n",
       "Gender           10000.0       0.545700      0.497932    0.00      0.00   \n",
       "Age              10000.0      38.921800     10.487806   18.00     32.00   \n",
       "Tenure           10000.0       5.012800      2.892174    0.00      3.00   \n",
       "Balance          10000.0   76485.889288  62397.405202    0.00      0.00   \n",
       "NumOfProducts    10000.0       1.530200      0.581654    1.00      1.00   \n",
       "HasCrCard        10000.0       0.705500      0.455840    0.00      0.00   \n",
       "IsActiveMember   10000.0       0.515100      0.499797    0.00      0.00   \n",
       "EstimatedSalary  10000.0  100090.239881  57510.492818   11.58  51002.11   \n",
       "Exited           10000.0       0.203700      0.402769    0.00      0.00   \n",
       "\n",
       "                        50%          75%        max  \n",
       "CreditScore         652.000     718.0000     850.00  \n",
       "Geography             0.000       1.0000       2.00  \n",
       "Gender                1.000       1.0000       1.00  \n",
       "Age                  37.000      44.0000      92.00  \n",
       "Tenure                5.000       7.0000      10.00  \n",
       "Balance           97198.540  127644.2400  250898.09  \n",
       "NumOfProducts         1.000       2.0000       4.00  \n",
       "HasCrCard             1.000       1.0000       1.00  \n",
       "IsActiveMember        1.000       1.0000       1.00  \n",
       "EstimatedSalary  100193.915  149388.2475  199992.48  \n",
       "Exited                0.000       0.0000       1.00  "
      ]
     },
     "execution_count": 28,
     "metadata": {},
     "output_type": "execute_result"
    }
   ],
   "source": [
    "# Avaliando as escalas\n",
    "df.describe().T\n"
   ]
  },
  {
   "cell_type": "markdown",
   "id": "3d7d175a",
   "metadata": {},
   "source": [
    "## Otimizando o modelo"
   ]
  },
  {
   "cell_type": "code",
   "execution_count": 29,
   "id": "8ca170e8",
   "metadata": {},
   "outputs": [
    {
     "name": "stdout",
     "output_type": "stream",
     "text": [
      "X_scaler: [[-0.33403912 -0.90664498 -1.10617994 ...  0.65331791  0.98243987\n",
      "   0.02527892]\n",
      " [-0.44812909  1.51337976 -1.10617994 ... -1.53064837  0.98243987\n",
      "   0.22040133]\n",
      " [-1.54754148 -0.90664498 -1.10617994 ...  0.65331791 -1.017874\n",
      "   0.24461344]\n",
      " ...\n",
      " [ 0.59942423 -0.90664498 -1.10617994 ... -1.53064837  0.98243987\n",
      "  -1.00776629]\n",
      " [ 1.25284858  0.30336739  0.90401206 ...  0.65331791 -1.017874\n",
      "  -0.12219742]\n",
      " [ 1.46028488 -0.90664498 -1.10617994 ...  0.65331791 -1.017874\n",
      "  -1.0756583 ]]\n"
     ]
    }
   ],
   "source": [
    "# Escalonando os dados\n",
    "scaler = StandardScaler()\n",
    "scaler.fit(X_train)\n",
    "X_scaler = scaler.transform(X)\n",
    "\n",
    "print(f'X_scaler: {X_scaler}')\n",
    "\n",
    "X_train, X_test, y_train, y_test = train_test_split(X, y, test_size=0.3, random_state=SEED)"
   ]
  },
  {
   "cell_type": "markdown",
   "id": "73caa1b2",
   "metadata": {},
   "source": [
    "**Vamos utilizar o modelo RandomForest que apresentou o melhor resultado**"
   ]
  },
  {
   "cell_type": "code",
   "execution_count": 30,
   "id": "fdf84be7",
   "metadata": {},
   "outputs": [
    {
     "name": "stdout",
     "output_type": "stream",
     "text": [
      "Acuracia RandomForestClassifier: 85.93%\n"
     ]
    },
    {
     "data": {
      "text/plain": [
       "<Axes: >"
      ]
     },
     "metadata": {},
     "output_type": "display_data"
    },
    {
     "data": {
      "image/png": "[encoded data removed]",
      "text/plain": [
       "<Figure size 360x144 with 2 Axes>"
      ]
     },
     "metadata": {
      "needs_background": "light"
     },
     "output_type": "display_data"
    }
   ],
   "source": [
    "# RandomForestClassifier\n",
    "rfc = RandomForestClassifier(random_state=SEED)\n",
    "rfc.fit(X_train, y_train)\n",
    "\n",
    "rfc_score = rfc.score(X_test, y_test)\n",
    "\n",
    "print(f'Acuracia RandomForestClassifier: {rfc_score*100:.2f}%')\n",
    "confusion = pd.DataFrame(confusion_matrix(rfc.predict(X_test), y_test))\n",
    "confusion.columns = ['Pred Negativo', 'Pred positivo']\n",
    "confusion.index = ['Verdadeiro Negativo', 'Verdadeiro Positivo']\n",
    "plt.figure(figsize=(5,2))\n",
    "display(sns.heatmap(confusion,  cmap='seismic', annot=True, fmt='d'))"
   ]
  },
  {
   "cell_type": "markdown",
   "id": "d77d8162",
   "metadata": {},
   "source": [
    "**O escalonamento não surtiu resultado. Vamos ajustar os hiperparametros utilizando GridSurchCV**"
   ]
  },
  {
   "cell_type": "code",
   "execution_count": 31,
   "id": "05b13651",
   "metadata": {},
   "outputs": [
    {
     "name": "stdout",
     "output_type": "stream",
     "text": [
      "Modelo RandomForestClassifier\n",
      "Best parameters: {'criterion': 'gini', 'max_depth': 20, 'n_estimators': 300}\n",
      "Acuracia RandomForestClassifier: 86.07%\n"
     ]
    },
    {
     "data": {
      "text/plain": [
       "<Axes: >"
      ]
     },
     "metadata": {},
     "output_type": "display_data"
    },
    {
     "data": {
      "image/png": "[encoded data removed]",
      "text/plain": [
       "<Figure size 360x144 with 2 Axes>"
      ]
     },
     "metadata": {
      "needs_background": "light"
     },
     "output_type": "display_data"
    }
   ],
   "source": [
    "grid = {\n",
    "    'n_estimators': [100, 150, 200, 300],\n",
    "    'max_depth': [2, 4, 6, 8, 10, 15, 20],\n",
    "    'criterion': ['gini', 'entropy']\n",
    "}\n",
    "\n",
    "grid_search = GridSearchCV(RandomForestClassifier(), param_grid=grid, cv=5, n_jobs=-1)\n",
    "\n",
    "grid_search.fit(X_train, y_train)\n",
    "\n",
    "best_params = grid_search.best_params_\n",
    "\n",
    "best_model = RandomForestClassifier(**best_params)\n",
    "\n",
    "best_model.fit(X_train, y_train)\n",
    "\n",
    "best_score = best_model.score(X_test, y_test)\n",
    "\n",
    "print('Modelo RandomForestClassifier')\n",
    "print('Best parameters:', best_params)\n",
    "print(f'Acuracia RandomForestClassifier: {best_score*100:.2f}%')\n",
    "\n",
    "confusion = pd.DataFrame(confusion_matrix(best_model.predict(X_test), y_test))\n",
    "confusion.columns = ['Pred Negativo', 'Pred positivo']\n",
    "confusion.index = ['Verdadeiro Negativo', 'Verdadeiro Positivo']\n",
    "plt.figure(figsize=(5,2))\n",
    "display(sns.heatmap(confusion,  cmap='seismic', annot=True, fmt='d'))"
   ]
  },
  {
   "cell_type": "markdown",
   "id": "59e3d188",
   "metadata": {},
   "source": [
    "**Os hiperparametros com escalonamento dos dados não surgiram efeito. Vou tentar uma redução de dimensionalidade**"
   ]
  },
  {
   "cell_type": "markdown",
   "id": "cb680f68",
   "metadata": {},
   "source": [
    "## Redução de dimensionalidade"
   ]
  },
  {
   "cell_type": "code",
   "execution_count": 32,
   "id": "b89aa2a5",
   "metadata": {},
   "outputs": [
    {
     "name": "stdout",
     "output_type": "stream",
     "text": [
      "Variância explicada:\n",
      "[5.41184037e-01 4.58814649e-01 1.29726452e-06 1.52621270e-08]\n",
      "\n",
      "Variância total explicada: 100.0%\n"
     ]
    }
   ],
   "source": [
    "pca = PCA(n_components=4)\n",
    "pca.fit(X)\n",
    "\n",
    "explained_variance_ratio = pca.explained_variance_ratio_\n",
    "\n",
    "total_explicado = sum(explained_variance_ratio).round(2)\n",
    "\n",
    "print('Variância explicada:')\n",
    "print(explained_variance_ratio)\n",
    "print(f'\\nVariância total explicada: {total_explicado*100}%')\n"
   ]
  },
  {
   "cell_type": "code",
   "execution_count": 33,
   "id": "cabaf213",
   "metadata": {},
   "outputs": [
    {
     "name": "stdout",
     "output_type": "stream",
     "text": [
      "Modelo RandomForestClassifier\n",
      "Best parameters: {'criterion': 'gini', 'max_depth': 6, 'n_estimators': 200}\n",
      "Acuracia RandomForestClassifier: 80.40%\n"
     ]
    },
    {
     "data": {
      "text/plain": [
       "<Axes: >"
      ]
     },
     "metadata": {},
     "output_type": "display_data"
    },
    {
     "data": {
      "image/png": "[encoded data removed]",
      "text/plain": [
       "<Figure size 360x144 with 2 Axes>"
      ]
     },
     "metadata": {
      "needs_background": "light"
     },
     "output_type": "display_data"
    }
   ],
   "source": [
    "# Aplicando o modelo ao DataFrame reduzido\n",
    "\n",
    "X_pca = pca.fit_transform(X)\n",
    "\n",
    "X_train, X_test, y_train, y_test = train_test_split(X_pca, y, test_size=0.3, random_state=SEED)\n",
    "\n",
    "grid = {\n",
    "    'n_estimators': [100, 150, 200, 300],\n",
    "    'max_depth': [2, 4, 6, 8, 10, 15, 20],\n",
    "    'criterion': ['gini', 'entropy']\n",
    "}\n",
    "\n",
    "grid_search = GridSearchCV(RandomForestClassifier(), param_grid=grid, cv=5, n_jobs=-1)\n",
    "\n",
    "grid_search.fit(X_train, y_train)\n",
    "\n",
    "best_params = grid_search.best_params_\n",
    "\n",
    "best_model = RandomForestClassifier(**best_params)\n",
    "\n",
    "best_model.fit(X_train, y_train)\n",
    "\n",
    "best_score = best_model.score(X_test, y_test)\n",
    "\n",
    "print('Modelo RandomForestClassifier')\n",
    "print('Best parameters:', best_params)\n",
    "print(f'Acuracia RandomForestClassifier: {best_score*100:.2f}%')\n",
    "\n",
    "confusion = pd.DataFrame(confusion_matrix(best_model.predict(X_test), y_test))\n",
    "confusion.columns = ['Pred Negativo', 'Pred positivo']\n",
    "confusion.index = ['Verdadeiro Negativo', 'Verdadeiro Positivo']\n",
    "plt.figure(figsize=(5,2))\n",
    "display(sns.heatmap(confusion,  cmap='seismic', annot=True, fmt='d'))"
   ]
  },
  {
   "cell_type": "markdown",
   "id": "eecaaa8c",
   "metadata": {},
   "source": [
    "**Ao final, o modelo apresentou o melhor resultado, trabalhando com os dados sem processamento**"
   ]
  },
  {
   "cell_type": "code",
   "execution_count": 34,
   "id": "24206a7a",
   "metadata": {},
   "outputs": [
    {
     "name": "stdout",
     "output_type": "stream",
     "text": [
      "Acuracia RandomForestClassifier: 86.37%\n"
     ]
    },
    {
     "data": {
      "text/plain": [
       "<Axes: >"
      ]
     },
     "metadata": {},
     "output_type": "display_data"
    },
    {
     "data": {
      "image/png": "[encoded data removed]",
      "text/plain": [
       "<Figure size 360x144 with 2 Axes>"
      ]
     },
     "metadata": {
      "needs_background": "light"
     },
     "output_type": "display_data"
    }
   ],
   "source": [
    "#RandomForestClassifier\n",
    "X = df.drop(columns='Exited')\n",
    "y = df.Exited\n",
    "\n",
    "X_train, X_test, y_train, y_test = train_test_split(X, y, test_size=0.3, random_state=SEED)\n",
    "\n",
    "X_train.shape, X_test.shape, y_train.shape, y_test.shape \n",
    "\n",
    "rfc = RandomForestClassifier(max_depth = 8,\n",
    "                             n_estimators = 200,\n",
    "                             random_state=SEED)\n",
    "\n",
    "rfc.fit(X_train, y_train)\n",
    "\n",
    "rfc_score = rfc.score(X_test, y_test)\n",
    "\n",
    "print(f'Acuracia RandomForestClassifier: {rfc_score*100:.2f}%')\n",
    "\n",
    "confusion = pd.DataFrame(confusion_matrix(rfc.predict(X_test), y_test))\n",
    "confusion.columns = ['Pred Negativo', 'Pred positivo']\n",
    "confusion.index = ['Verdadeiro Negativo', 'Verdadeiro Positivo']\n",
    "plt.figure(figsize=(5,2))\n",
    "display(sns.heatmap(confusion, cmap='seismic', annot=True, fmt='d'))"
   ]
  },
  {
   "cell_type": "markdown",
   "id": "857438c2",
   "metadata": {},
   "source": [
    "## Acuracia de 86,37%, utilizando RandomForest"
   ]
  }
 ],
 "metadata": {
  "kernelspec": {
   "display_name": "Python 3",
   "language": "python",
   "name": "python3"
  },
  "language_info": {
   "codemirror_mode": {
    "name": "ipython",
    "version": 3
   },
   "file_extension": ".py",
   "mimetype": "text/x-python",
   "name": "python",
   "nbconvert_exporter": "python",
   "pygments_lexer": "ipython3",
   "version": "3.8.8"
  }
 },
 "nbformat": 4,
 "nbformat_minor": 5
}
